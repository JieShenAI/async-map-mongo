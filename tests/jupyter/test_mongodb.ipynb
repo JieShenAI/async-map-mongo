{
 "cells": [
  {
   "cell_type": "code",
   "execution_count": 4,
   "id": "c1402afd",
   "metadata": {},
   "outputs": [],
   "source": [
    "import os\n",
    "from pymongo import MongoClient\n",
    "from pymongo.errors import DuplicateKeyError\n",
    "from dataclasses import dataclass, field"
   ]
  },
  {
   "cell_type": "code",
   "execution_count": null,
   "id": "51499b1f",
   "metadata": {},
   "outputs": [],
   "source": [
    "# obj = query_by_address(collection, \"浙江省温州市乐清市淡溪镇石龙头村1\")"
   ]
  },
  {
   "cell_type": "code",
   "execution_count": 11,
   "id": "eb13db17",
   "metadata": {},
   "outputs": [],
   "source": [
    "DB_NAME = \"map\"\n",
    "COLLECTION_NAME = \"amap\""
   ]
  },
  {
   "cell_type": "code",
   "execution_count": 12,
   "id": "23b7ff38",
   "metadata": {},
   "outputs": [],
   "source": [
    "@dataclass\n",
    "class MapMongoDB:\n",
    "    db_name: str  # 数据库名\n",
    "    collection_name: str\n",
    "    mongo_uri: str = field(\n",
    "        default=os.getenv(\"MONGO_URI\", \"mongodb://localhost:27017/\")\n",
    "    )  # 默认本地连接)\n",
    "    \n",
    "    def insert_data(self, **kwargs):\n",
    "        try:\n",
    "            # 插入文档\n",
    "            self.collection.insert_one(kwargs)\n",
    "            return 1\n",
    "        except DuplicateKeyError:\n",
    "            return 0\n",
    "        except Exception as e:\n",
    "            return -1\n",
    "\n",
    "    # query item\n",
    "    def query_by_address(self, address):\n",
    "        result = self.collection.find_one({\"address_input\": address})\n",
    "        return result\n",
    "\n",
    "    def __post_init__(self):\n",
    "        \"\"\"初始化数据库，创建集合并为 name 字段添加唯一索引\"\"\"\n",
    "        # 连接 MongoDB\n",
    "        self.client = MongoClient(self.mongo_uri)\n",
    "        self.db = self.client[self.db_name]\n",
    "        self.collection = self.db[self.collection_name]\n",
    "        self.collection.create_index(\"address_input\", unique=True)\n",
    "\n",
    "    def __del__(self):\n",
    "        self.client.close()"
   ]
  },
  {
   "cell_type": "code",
   "execution_count": 13,
   "id": "5259321e",
   "metadata": {},
   "outputs": [],
   "source": [
    "mongodb = MapMongoDB(db_name=DB_NAME, collection_name=COLLECTION_NAME)"
   ]
  },
  {
   "cell_type": "code",
   "execution_count": null,
   "id": "752418bc",
   "metadata": {},
   "outputs": [],
   "source": [
    "mongodb"
   ]
  },
  {
   "cell_type": "code",
   "execution_count": null,
   "id": "3d8aaef7",
   "metadata": {},
   "outputs": [],
   "source": []
  }
 ],
 "metadata": {
  "kernelspec": {
   "display_name": "amap-lon-lat (3.12.11)",
   "language": "python",
   "name": "python3"
  },
  "language_info": {
   "codemirror_mode": {
    "name": "ipython",
    "version": 3
   },
   "file_extension": ".py",
   "mimetype": "text/x-python",
   "name": "python",
   "nbconvert_exporter": "python",
   "pygments_lexer": "ipython3",
   "version": "3.12.11"
  }
 },
 "nbformat": 4,
 "nbformat_minor": 5
}
