{
 "cells": [
  {
   "cell_type": "code",
   "execution_count": 1,
   "id": "c81d687e",
   "metadata": {},
   "outputs": [],
   "source": [
    "from project_path import *\n",
    "\n",
    "from amap_mongo.mongo_db import MapMongoDB\n",
    "from amap_mongo.sync import AsyncMapCall"
   ]
  },
  {
   "cell_type": "code",
   "execution_count": 2,
   "id": "44924797",
   "metadata": {},
   "outputs": [],
   "source": [
    "addresses = [\n",
    "    \"山东省淄博市临淄区凤凰镇齐城农业高新技术开发区宏达路东首路南1069号办公楼三楼310\",\n",
    "    \"山东省淄博市临淄区凤凰镇齐城农业高新技术开发区宏达路东首路南1069号\",\n",
    "    \"浙江省玉环市大麦屿街道龙山南路52-3号5幢103室一楼\",\n",
    "    \"浙江省玉环市大麦屿街道龙山南路52-3号\",\n",
    "    \"山西省长治市上党区民生大厦东800米\",\n",
    "    \"山西省长治市上党区民生大厦\"\n",
    "]"
   ]
  },
  {
   "cell_type": "code",
   "execution_count": 3,
   "id": "d1b18348",
   "metadata": {},
   "outputs": [],
   "source": [
    "mongo_db = MapMongoDB(db_name=\"map\", collection_name=\"amap\")\n",
    "sync_call = AsyncMapCall(mongo_db)"
   ]
  },
  {
   "cell_type": "code",
   "execution_count": 4,
   "id": "983f8725",
   "metadata": {},
   "outputs": [
    {
     "name": "stderr",
     "output_type": "stream",
     "text": [
      "Processing: 100%|██████████| 6/6 [00:00<00:00, 63.33it/s]\n"
     ]
    }
   ],
   "source": [
    "data = await sync_call.fetch_all(addresses)"
   ]
  },
  {
   "cell_type": "code",
   "execution_count": 6,
   "id": "3b57f5e4",
   "metadata": {},
   "outputs": [
    {
     "data": {
      "text/plain": [
       "{'_id': ObjectId('689b5a20d7fa41415d4e60ca'),\n",
       " 'status': '1',\n",
       " 'info': 'OK',\n",
       " 'infocode': '10000',\n",
       " 'count': '1',\n",
       " 'geocodes': [{'formatted_address': '山西省长治市上党区民生大厦(公交站)',\n",
       "   'country': '中国',\n",
       "   'province': '山西省',\n",
       "   'citycode': '0355',\n",
       "   'city': '长治市',\n",
       "   'district': '上党区',\n",
       "   'township': [],\n",
       "   'neighborhood': {'name': [], 'type': []},\n",
       "   'building': {'name': [], 'type': []},\n",
       "   'adcode': '140404',\n",
       "   'street': [],\n",
       "   'number': [],\n",
       "   'location': '113.074657,36.055735',\n",
       "   'level': '公交地铁站点'}],\n",
       " 'address_input': '山西省长治市上党区民生大厦'}"
      ]
     },
     "execution_count": 6,
     "metadata": {},
     "output_type": "execute_result"
    }
   ],
   "source": [
    "mongo_db.query_by_address(\"山西省长治市上党区民生大厦\")"
   ]
  },
  {
   "cell_type": "code",
   "execution_count": null,
   "id": "4dd8b3d0",
   "metadata": {},
   "outputs": [],
   "source": [
    "# mongo_db.collection.delete_one({\"address_input\": \"山西省长治市上党区民生大厦\"})"
   ]
  },
  {
   "cell_type": "code",
   "execution_count": null,
   "id": "7423bfe6",
   "metadata": {},
   "outputs": [],
   "source": [
    "# res = mongo_db.query_by_address(\"山东省淄博市临淄区凤凰镇齐城农业高新技术开发区宏达路\")"
   ]
  },
  {
   "cell_type": "code",
   "execution_count": null,
   "id": "20d6e932",
   "metadata": {},
   "outputs": [],
   "source": []
  }
 ],
 "metadata": {
  "kernelspec": {
   "display_name": "amap-lon-lat (3.12.11)",
   "language": "python",
   "name": "python3"
  },
  "language_info": {
   "codemirror_mode": {
    "name": "ipython",
    "version": 3
   },
   "file_extension": ".py",
   "mimetype": "text/x-python",
   "name": "python",
   "nbconvert_exporter": "python",
   "pygments_lexer": "ipython3",
   "version": "3.12.11"
  }
 },
 "nbformat": 4,
 "nbformat_minor": 5
}
