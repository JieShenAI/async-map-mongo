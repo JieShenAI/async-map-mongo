{
 "cells": [
  {
   "cell_type": "code",
   "id": "initial_id",
   "metadata": {
    "collapsed": true,
    "ExecuteTime": {
     "end_time": "2025-08-13T08:03:11.417301Z",
     "start_time": "2025-08-13T08:03:11.157368Z"
    }
   },
   "source": [
    "from project_path import *\n",
    "\n",
    "from amap_mongo.data import ExcelObj"
   ],
   "outputs": [],
   "execution_count": 1
  },
  {
   "metadata": {},
   "cell_type": "code",
   "source": [
    "# filename: str\n",
    "# address_col_name: str\n",
    "# output_dir: str\n",
    "# overwrite: bool = field(default=False)\n",
    "# address_clean: bool = field(default=False, metadata={\"help\": \"是否对地址进行处理\"})"
   ],
   "id": "1872e08bb43535ce",
   "outputs": [],
   "execution_count": null
  },
  {
   "metadata": {
    "ExecuteTime": {
     "end_time": "2025-08-13T08:04:08.332725Z",
     "start_time": "2025-08-13T08:03:15.808867Z"
    }
   },
   "cell_type": "code",
   "source": [
    "excel_obj = ExcelObj(\n",
    "    filename=\"../data/jiekai_industry.xlsx\",\n",
    "    address_col_name=\"注册地址\",\n",
    "    output_dir=\"output\",\n",
    ")"
   ],
   "id": "35ed0e73a80adba4",
   "outputs": [],
   "execution_count": 2
  },
  {
   "metadata": {
    "ExecuteTime": {
     "end_time": "2025-08-13T08:04:49.816240Z",
     "start_time": "2025-08-13T08:04:49.689900Z"
    }
   },
   "cell_type": "code",
   "source": "addresses = excel_obj.address",
   "id": "eba5687f373644fa",
   "outputs": [],
   "execution_count": 4
  },
  {
   "metadata": {
    "ExecuteTime": {
     "end_time": "2025-08-13T08:04:55.643536Z",
     "start_time": "2025-08-13T08:04:55.640642Z"
    }
   },
   "cell_type": "code",
   "source": "len(addresses)",
   "id": "276af601f77ce16b",
   "outputs": [
    {
     "data": {
      "text/plain": [
       "446304"
      ]
     },
     "execution_count": 5,
     "metadata": {},
     "output_type": "execute_result"
    }
   ],
   "execution_count": 5
  },
  {
   "metadata": {
    "ExecuteTime": {
     "end_time": "2025-08-13T08:05:19.592822Z",
     "start_time": "2025-08-13T08:05:19.581952Z"
    }
   },
   "cell_type": "code",
   "source": "addresses[0]",
   "id": "334e6e25fdabe888",
   "outputs": [
    {
     "data": {
      "text/plain": [
       "'山东省济南市高新技术产业开发区华奥路777号中国重汽科技大厦'"
      ]
     },
     "execution_count": 6,
     "metadata": {},
     "output_type": "execute_result"
    }
   ],
   "execution_count": 6
  },
  {
   "metadata": {
    "ExecuteTime": {
     "end_time": "2025-08-13T08:04:16.525381Z",
     "start_time": "2025-08-13T08:04:16.519478Z"
    }
   },
   "cell_type": "code",
   "source": "excel_obj.df.shape",
   "id": "ef147edf1c39c841",
   "outputs": [
    {
     "data": {
      "text/plain": [
       "(446304, 20)"
      ]
     },
     "execution_count": 3,
     "metadata": {},
     "output_type": "execute_result"
    }
   ],
   "execution_count": 3
  },
  {
   "metadata": {},
   "cell_type": "code",
   "source": "",
   "id": "1faad0bb13477888",
   "outputs": [],
   "execution_count": null
  }
 ],
 "metadata": {
  "kernelspec": {
   "display_name": "Python 3",
   "language": "python",
   "name": "python3"
  },
  "language_info": {
   "codemirror_mode": {
    "name": "ipython",
    "version": 2
   },
   "file_extension": ".py",
   "mimetype": "text/x-python",
   "name": "python",
   "nbconvert_exporter": "python",
   "pygments_lexer": "ipython2",
   "version": "2.7.6"
  }
 },
 "nbformat": 4,
 "nbformat_minor": 5
}
